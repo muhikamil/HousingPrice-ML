{
  "nbformat": 4,
  "nbformat_minor": 0,
  "metadata": {
    "colab": {
      "provenance": [],
      "toc_visible": true
    },
    "kernelspec": {
      "name": "python3",
      "display_name": "Python 3"
    },
    "language_info": {
      "name": "python"
    }
  },
  "cells": [
    {
      "cell_type": "markdown",
      "source": [
        "# Import Data"
      ],
      "metadata": {
        "id": "eecqvCrFer9g"
      }
    },
    {
      "cell_type": "code",
      "source": [
        "from google.colab import drive\n",
        "drive.mount('/content/drive')"
      ],
      "metadata": {
        "id": "1vI9zrvV8_Zj",
        "colab": {
          "base_uri": "https://localhost:8080/"
        },
        "outputId": "1fbfd4c7-3e59-4a5c-b997-ef191166be36"
      },
      "execution_count": null,
      "outputs": [
        {
          "output_type": "stream",
          "name": "stdout",
          "text": [
            "Mounted at /content/drive\n"
          ]
        }
      ]
    },
    {
      "cell_type": "code",
      "execution_count": null,
      "metadata": {
        "id": "0UwBaArcecUr"
      },
      "outputs": [],
      "source": [
        "import pandas as pd\n",
        "ds= pd.read_excel('/content/drive/MyDrive/Colab Notebooks/Data/Dataset UAS.xlsx')"
      ]
    },
    {
      "cell_type": "markdown",
      "source": [
        "# Nomor 2, Drop tabel"
      ],
      "metadata": {
        "id": "W92LLEUNe58D"
      }
    },
    {
      "cell_type": "markdown",
      "source": [
        "\n",
        "\n",
        "*   **Menghapus Kolom Over 18 karena tidak relevan dan tidak berguna untuk prediksi**\n",
        "\n"
      ],
      "metadata": {
        "id": "iC6pTA_B6dfX"
      }
    },
    {
      "cell_type": "code",
      "source": [
        "ds = ds.drop('Over18',axis=1)"
      ],
      "metadata": {
        "id": "dfm7wKpQYVsa"
      },
      "execution_count": null,
      "outputs": []
    },
    {
      "cell_type": "markdown",
      "source": [
        "*   **Check top 10 Data in Tabel**"
      ],
      "metadata": {
        "id": "g_El8-2ZBKXa"
      }
    },
    {
      "cell_type": "code",
      "source": [
        "#disini kolom atribut over18 sudah tidak ada karena sudah dihilangkan\n",
        "ds.head(10)"
      ],
      "metadata": {
        "colab": {
          "base_uri": "https://localhost:8080/",
          "height": 613
        },
        "id": "kGHvx-Mq-Dkh",
        "outputId": "7a001fd1-3f46-4f2b-c3c1-490996027a1e"
      },
      "execution_count": null,
      "outputs": [
        {
          "output_type": "execute_result",
          "data": {
            "text/plain": [
              "  Attrition  Age     BusinessTravel  DailyRate              Department  \\\n",
              "0       Yes   41      Travel_Rarely       1102                   Sales   \n",
              "1        No   49  Travel_Frequently        279  Research & Development   \n",
              "2       Yes   37      Travel_Rarely       1373  Research & Development   \n",
              "3        No   33  Travel_Frequently       1392  Research & Development   \n",
              "4        No   27      Travel_Rarely        591  Research & Development   \n",
              "5        No   32  Travel_Frequently       1005  Research & Development   \n",
              "6        No   59      Travel_Rarely       1324  Research & Development   \n",
              "7        No   30      Travel_Rarely       1358  Research & Development   \n",
              "8        No   38  Travel_Frequently        216  Research & Development   \n",
              "9        No   36      Travel_Rarely       1299  Research & Development   \n",
              "\n",
              "   DistanceFromHome  Education EducationField  EnvironmentSatisfaction  \\\n",
              "0                 1          2  Life Sciences                        2   \n",
              "1                 8          1  Life Sciences                        3   \n",
              "2                 2          2          Other                        4   \n",
              "3                 3          4  Life Sciences                        4   \n",
              "4                 2          1        Medical                        1   \n",
              "5                 2          2  Life Sciences                        4   \n",
              "6                 3          3        Medical                        3   \n",
              "7                24          1  Life Sciences                        4   \n",
              "8                23          3  Life Sciences                        4   \n",
              "9                27          3        Medical                        3   \n",
              "\n",
              "   Gender  ...  MaritalStatus  MonthlyIncome  MonthlyRate NumCompaniesWorked  \\\n",
              "0  Female  ...         Single           5993        19479                  8   \n",
              "1    Male  ...        Married           5130        24907                  1   \n",
              "2    Male  ...         Single           2090         2396                  6   \n",
              "3  Female  ...        Married           2909        23159                  1   \n",
              "4    Male  ...        Married           3468        16632                  9   \n",
              "5    Male  ...         Single           3068        11864                  0   \n",
              "6  Female  ...        Married           2670         9964                  4   \n",
              "7    Male  ...       Divorced           2693        13335                  1   \n",
              "8    Male  ...         Single           9526         8787                  0   \n",
              "9    Male  ...        Married           5237        16577                  6   \n",
              "\n",
              "   OverTime PercentSalaryHike  PerformanceRating  RelationshipSatisfaction  \\\n",
              "0       Yes                11                  3                         1   \n",
              "1        No                23                  4                         4   \n",
              "2       Yes                15                  3                         2   \n",
              "3       Yes                11                  3                         3   \n",
              "4        No                12                  3                         4   \n",
              "5        No                13                  3                         3   \n",
              "6       Yes                20                  4                         1   \n",
              "7        No                22                  4                         2   \n",
              "8        No                21                  4                         2   \n",
              "9        No                13                  3                         2   \n",
              "\n",
              "   TotalWorkingYears YearsAtCompany  \n",
              "0                  8              6  \n",
              "1                 10             10  \n",
              "2                  7              0  \n",
              "3                  8              8  \n",
              "4                  6              2  \n",
              "5                  8              7  \n",
              "6                 12              1  \n",
              "7                  1              1  \n",
              "8                 10              9  \n",
              "9                 17              7  \n",
              "\n",
              "[10 rows x 25 columns]"
            ],
            "text/html": [
              "\n",
              "  <div id=\"df-b83a0b38-4ade-470a-88fe-d357717654fc\">\n",
              "    <div class=\"colab-df-container\">\n",
              "      <div>\n",
              "<style scoped>\n",
              "    .dataframe tbody tr th:only-of-type {\n",
              "        vertical-align: middle;\n",
              "    }\n",
              "\n",
              "    .dataframe tbody tr th {\n",
              "        vertical-align: top;\n",
              "    }\n",
              "\n",
              "    .dataframe thead th {\n",
              "        text-align: right;\n",
              "    }\n",
              "</style>\n",
              "<table border=\"1\" class=\"dataframe\">\n",
              "  <thead>\n",
              "    <tr style=\"text-align: right;\">\n",
              "      <th></th>\n",
              "      <th>Attrition</th>\n",
              "      <th>Age</th>\n",
              "      <th>BusinessTravel</th>\n",
              "      <th>DailyRate</th>\n",
              "      <th>Department</th>\n",
              "      <th>DistanceFromHome</th>\n",
              "      <th>Education</th>\n",
              "      <th>EducationField</th>\n",
              "      <th>EnvironmentSatisfaction</th>\n",
              "      <th>Gender</th>\n",
              "      <th>...</th>\n",
              "      <th>MaritalStatus</th>\n",
              "      <th>MonthlyIncome</th>\n",
              "      <th>MonthlyRate</th>\n",
              "      <th>NumCompaniesWorked</th>\n",
              "      <th>OverTime</th>\n",
              "      <th>PercentSalaryHike</th>\n",
              "      <th>PerformanceRating</th>\n",
              "      <th>RelationshipSatisfaction</th>\n",
              "      <th>TotalWorkingYears</th>\n",
              "      <th>YearsAtCompany</th>\n",
              "    </tr>\n",
              "  </thead>\n",
              "  <tbody>\n",
              "    <tr>\n",
              "      <th>0</th>\n",
              "      <td>Yes</td>\n",
              "      <td>41</td>\n",
              "      <td>Travel_Rarely</td>\n",
              "      <td>1102</td>\n",
              "      <td>Sales</td>\n",
              "      <td>1</td>\n",
              "      <td>2</td>\n",
              "      <td>Life Sciences</td>\n",
              "      <td>2</td>\n",
              "      <td>Female</td>\n",
              "      <td>...</td>\n",
              "      <td>Single</td>\n",
              "      <td>5993</td>\n",
              "      <td>19479</td>\n",
              "      <td>8</td>\n",
              "      <td>Yes</td>\n",
              "      <td>11</td>\n",
              "      <td>3</td>\n",
              "      <td>1</td>\n",
              "      <td>8</td>\n",
              "      <td>6</td>\n",
              "    </tr>\n",
              "    <tr>\n",
              "      <th>1</th>\n",
              "      <td>No</td>\n",
              "      <td>49</td>\n",
              "      <td>Travel_Frequently</td>\n",
              "      <td>279</td>\n",
              "      <td>Research &amp; Development</td>\n",
              "      <td>8</td>\n",
              "      <td>1</td>\n",
              "      <td>Life Sciences</td>\n",
              "      <td>3</td>\n",
              "      <td>Male</td>\n",
              "      <td>...</td>\n",
              "      <td>Married</td>\n",
              "      <td>5130</td>\n",
              "      <td>24907</td>\n",
              "      <td>1</td>\n",
              "      <td>No</td>\n",
              "      <td>23</td>\n",
              "      <td>4</td>\n",
              "      <td>4</td>\n",
              "      <td>10</td>\n",
              "      <td>10</td>\n",
              "    </tr>\n",
              "    <tr>\n",
              "      <th>2</th>\n",
              "      <td>Yes</td>\n",
              "      <td>37</td>\n",
              "      <td>Travel_Rarely</td>\n",
              "      <td>1373</td>\n",
              "      <td>Research &amp; Development</td>\n",
              "      <td>2</td>\n",
              "      <td>2</td>\n",
              "      <td>Other</td>\n",
              "      <td>4</td>\n",
              "      <td>Male</td>\n",
              "      <td>...</td>\n",
              "      <td>Single</td>\n",
              "      <td>2090</td>\n",
              "      <td>2396</td>\n",
              "      <td>6</td>\n",
              "      <td>Yes</td>\n",
              "      <td>15</td>\n",
              "      <td>3</td>\n",
              "      <td>2</td>\n",
              "      <td>7</td>\n",
              "      <td>0</td>\n",
              "    </tr>\n",
              "    <tr>\n",
              "      <th>3</th>\n",
              "      <td>No</td>\n",
              "      <td>33</td>\n",
              "      <td>Travel_Frequently</td>\n",
              "      <td>1392</td>\n",
              "      <td>Research &amp; Development</td>\n",
              "      <td>3</td>\n",
              "      <td>4</td>\n",
              "      <td>Life Sciences</td>\n",
              "      <td>4</td>\n",
              "      <td>Female</td>\n",
              "      <td>...</td>\n",
              "      <td>Married</td>\n",
              "      <td>2909</td>\n",
              "      <td>23159</td>\n",
              "      <td>1</td>\n",
              "      <td>Yes</td>\n",
              "      <td>11</td>\n",
              "      <td>3</td>\n",
              "      <td>3</td>\n",
              "      <td>8</td>\n",
              "      <td>8</td>\n",
              "    </tr>\n",
              "    <tr>\n",
              "      <th>4</th>\n",
              "      <td>No</td>\n",
              "      <td>27</td>\n",
              "      <td>Travel_Rarely</td>\n",
              "      <td>591</td>\n",
              "      <td>Research &amp; Development</td>\n",
              "      <td>2</td>\n",
              "      <td>1</td>\n",
              "      <td>Medical</td>\n",
              "      <td>1</td>\n",
              "      <td>Male</td>\n",
              "      <td>...</td>\n",
              "      <td>Married</td>\n",
              "      <td>3468</td>\n",
              "      <td>16632</td>\n",
              "      <td>9</td>\n",
              "      <td>No</td>\n",
              "      <td>12</td>\n",
              "      <td>3</td>\n",
              "      <td>4</td>\n",
              "      <td>6</td>\n",
              "      <td>2</td>\n",
              "    </tr>\n",
              "    <tr>\n",
              "      <th>5</th>\n",
              "      <td>No</td>\n",
              "      <td>32</td>\n",
              "      <td>Travel_Frequently</td>\n",
              "      <td>1005</td>\n",
              "      <td>Research &amp; Development</td>\n",
              "      <td>2</td>\n",
              "      <td>2</td>\n",
              "      <td>Life Sciences</td>\n",
              "      <td>4</td>\n",
              "      <td>Male</td>\n",
              "      <td>...</td>\n",
              "      <td>Single</td>\n",
              "      <td>3068</td>\n",
              "      <td>11864</td>\n",
              "      <td>0</td>\n",
              "      <td>No</td>\n",
              "      <td>13</td>\n",
              "      <td>3</td>\n",
              "      <td>3</td>\n",
              "      <td>8</td>\n",
              "      <td>7</td>\n",
              "    </tr>\n",
              "    <tr>\n",
              "      <th>6</th>\n",
              "      <td>No</td>\n",
              "      <td>59</td>\n",
              "      <td>Travel_Rarely</td>\n",
              "      <td>1324</td>\n",
              "      <td>Research &amp; Development</td>\n",
              "      <td>3</td>\n",
              "      <td>3</td>\n",
              "      <td>Medical</td>\n",
              "      <td>3</td>\n",
              "      <td>Female</td>\n",
              "      <td>...</td>\n",
              "      <td>Married</td>\n",
              "      <td>2670</td>\n",
              "      <td>9964</td>\n",
              "      <td>4</td>\n",
              "      <td>Yes</td>\n",
              "      <td>20</td>\n",
              "      <td>4</td>\n",
              "      <td>1</td>\n",
              "      <td>12</td>\n",
              "      <td>1</td>\n",
              "    </tr>\n",
              "    <tr>\n",
              "      <th>7</th>\n",
              "      <td>No</td>\n",
              "      <td>30</td>\n",
              "      <td>Travel_Rarely</td>\n",
              "      <td>1358</td>\n",
              "      <td>Research &amp; Development</td>\n",
              "      <td>24</td>\n",
              "      <td>1</td>\n",
              "      <td>Life Sciences</td>\n",
              "      <td>4</td>\n",
              "      <td>Male</td>\n",
              "      <td>...</td>\n",
              "      <td>Divorced</td>\n",
              "      <td>2693</td>\n",
              "      <td>13335</td>\n",
              "      <td>1</td>\n",
              "      <td>No</td>\n",
              "      <td>22</td>\n",
              "      <td>4</td>\n",
              "      <td>2</td>\n",
              "      <td>1</td>\n",
              "      <td>1</td>\n",
              "    </tr>\n",
              "    <tr>\n",
              "      <th>8</th>\n",
              "      <td>No</td>\n",
              "      <td>38</td>\n",
              "      <td>Travel_Frequently</td>\n",
              "      <td>216</td>\n",
              "      <td>Research &amp; Development</td>\n",
              "      <td>23</td>\n",
              "      <td>3</td>\n",
              "      <td>Life Sciences</td>\n",
              "      <td>4</td>\n",
              "      <td>Male</td>\n",
              "      <td>...</td>\n",
              "      <td>Single</td>\n",
              "      <td>9526</td>\n",
              "      <td>8787</td>\n",
              "      <td>0</td>\n",
              "      <td>No</td>\n",
              "      <td>21</td>\n",
              "      <td>4</td>\n",
              "      <td>2</td>\n",
              "      <td>10</td>\n",
              "      <td>9</td>\n",
              "    </tr>\n",
              "    <tr>\n",
              "      <th>9</th>\n",
              "      <td>No</td>\n",
              "      <td>36</td>\n",
              "      <td>Travel_Rarely</td>\n",
              "      <td>1299</td>\n",
              "      <td>Research &amp; Development</td>\n",
              "      <td>27</td>\n",
              "      <td>3</td>\n",
              "      <td>Medical</td>\n",
              "      <td>3</td>\n",
              "      <td>Male</td>\n",
              "      <td>...</td>\n",
              "      <td>Married</td>\n",
              "      <td>5237</td>\n",
              "      <td>16577</td>\n",
              "      <td>6</td>\n",
              "      <td>No</td>\n",
              "      <td>13</td>\n",
              "      <td>3</td>\n",
              "      <td>2</td>\n",
              "      <td>17</td>\n",
              "      <td>7</td>\n",
              "    </tr>\n",
              "  </tbody>\n",
              "</table>\n",
              "<p>10 rows × 25 columns</p>\n",
              "</div>\n",
              "      <button class=\"colab-df-convert\" onclick=\"convertToInteractive('df-b83a0b38-4ade-470a-88fe-d357717654fc')\"\n",
              "              title=\"Convert this dataframe to an interactive table.\"\n",
              "              style=\"display:none;\">\n",
              "        \n",
              "  <svg xmlns=\"http://www.w3.org/2000/svg\" height=\"24px\"viewBox=\"0 0 24 24\"\n",
              "       width=\"24px\">\n",
              "    <path d=\"M0 0h24v24H0V0z\" fill=\"none\"/>\n",
              "    <path d=\"M18.56 5.44l.94 2.06.94-2.06 2.06-.94-2.06-.94-.94-2.06-.94 2.06-2.06.94zm-11 1L8.5 8.5l.94-2.06 2.06-.94-2.06-.94L8.5 2.5l-.94 2.06-2.06.94zm10 10l.94 2.06.94-2.06 2.06-.94-2.06-.94-.94-2.06-.94 2.06-2.06.94z\"/><path d=\"M17.41 7.96l-1.37-1.37c-.4-.4-.92-.59-1.43-.59-.52 0-1.04.2-1.43.59L10.3 9.45l-7.72 7.72c-.78.78-.78 2.05 0 2.83L4 21.41c.39.39.9.59 1.41.59.51 0 1.02-.2 1.41-.59l7.78-7.78 2.81-2.81c.8-.78.8-2.07 0-2.86zM5.41 20L4 18.59l7.72-7.72 1.47 1.35L5.41 20z\"/>\n",
              "  </svg>\n",
              "      </button>\n",
              "      \n",
              "  <style>\n",
              "    .colab-df-container {\n",
              "      display:flex;\n",
              "      flex-wrap:wrap;\n",
              "      gap: 12px;\n",
              "    }\n",
              "\n",
              "    .colab-df-convert {\n",
              "      background-color: #E8F0FE;\n",
              "      border: none;\n",
              "      border-radius: 50%;\n",
              "      cursor: pointer;\n",
              "      display: none;\n",
              "      fill: #1967D2;\n",
              "      height: 32px;\n",
              "      padding: 0 0 0 0;\n",
              "      width: 32px;\n",
              "    }\n",
              "\n",
              "    .colab-df-convert:hover {\n",
              "      background-color: #E2EBFA;\n",
              "      box-shadow: 0px 1px 2px rgba(60, 64, 67, 0.3), 0px 1px 3px 1px rgba(60, 64, 67, 0.15);\n",
              "      fill: #174EA6;\n",
              "    }\n",
              "\n",
              "    [theme=dark] .colab-df-convert {\n",
              "      background-color: #3B4455;\n",
              "      fill: #D2E3FC;\n",
              "    }\n",
              "\n",
              "    [theme=dark] .colab-df-convert:hover {\n",
              "      background-color: #434B5C;\n",
              "      box-shadow: 0px 1px 3px 1px rgba(0, 0, 0, 0.15);\n",
              "      filter: drop-shadow(0px 1px 2px rgba(0, 0, 0, 0.3));\n",
              "      fill: #FFFFFF;\n",
              "    }\n",
              "  </style>\n",
              "\n",
              "      <script>\n",
              "        const buttonEl =\n",
              "          document.querySelector('#df-b83a0b38-4ade-470a-88fe-d357717654fc button.colab-df-convert');\n",
              "        buttonEl.style.display =\n",
              "          google.colab.kernel.accessAllowed ? 'block' : 'none';\n",
              "\n",
              "        async function convertToInteractive(key) {\n",
              "          const element = document.querySelector('#df-b83a0b38-4ade-470a-88fe-d357717654fc');\n",
              "          const dataTable =\n",
              "            await google.colab.kernel.invokeFunction('convertToInteractive',\n",
              "                                                     [key], {});\n",
              "          if (!dataTable) return;\n",
              "\n",
              "          const docLinkHtml = 'Like what you see? Visit the ' +\n",
              "            '<a target=\"_blank\" href=https://colab.research.google.com/notebooks/data_table.ipynb>data table notebook</a>'\n",
              "            + ' to learn more about interactive tables.';\n",
              "          element.innerHTML = '';\n",
              "          dataTable['output_type'] = 'display_data';\n",
              "          await google.colab.output.renderOutput(dataTable, element);\n",
              "          const docLink = document.createElement('div');\n",
              "          docLink.innerHTML = docLinkHtml;\n",
              "          element.appendChild(docLink);\n",
              "        }\n",
              "      </script>\n",
              "    </div>\n",
              "  </div>\n",
              "  "
            ]
          },
          "metadata": {},
          "execution_count": 5
        }
      ]
    },
    {
      "cell_type": "markdown",
      "source": [
        "# Data Preprocessing\n"
      ],
      "metadata": {
        "id": "NHkpMRC9ByL3"
      }
    },
    {
      "cell_type": "markdown",
      "source": [
        "*   **Check Missing Value**"
      ],
      "metadata": {
        "id": "acnmCR_MBGHJ"
      }
    },
    {
      "cell_type": "code",
      "source": [
        "ds.isnull().sum()"
      ],
      "metadata": {
        "colab": {
          "base_uri": "https://localhost:8080/"
        },
        "id": "UZftPvw3e0tb",
        "outputId": "bd95c6c7-a6b0-4c52-f25a-064ccc19b9bb"
      },
      "execution_count": null,
      "outputs": [
        {
          "output_type": "execute_result",
          "data": {
            "text/plain": [
              "Attrition                    0\n",
              "Age                          0\n",
              "BusinessTravel              55\n",
              "DailyRate                    0\n",
              "Department                   0\n",
              "DistanceFromHome             0\n",
              "Education                    0\n",
              "EducationField               0\n",
              "EnvironmentSatisfaction      0\n",
              "Gender                       0\n",
              "HourlyRate                  88\n",
              "JobInvolvement               0\n",
              "JobLevel                     0\n",
              "JobRole                      0\n",
              "JobSatisfaction              0\n",
              "MaritalStatus                0\n",
              "MonthlyIncome                0\n",
              "MonthlyRate                  0\n",
              "NumCompaniesWorked           0\n",
              "OverTime                     0\n",
              "PercentSalaryHike            0\n",
              "PerformanceRating            0\n",
              "RelationshipSatisfaction     0\n",
              "TotalWorkingYears            0\n",
              "YearsAtCompany               0\n",
              "dtype: int64"
            ]
          },
          "metadata": {},
          "execution_count": 6
        }
      ]
    },
    {
      "cell_type": "markdown",
      "source": [
        "*   **Check Type Data**\n",
        "\n"
      ],
      "metadata": {
        "id": "2GcxrzgbAxQ5"
      }
    },
    {
      "cell_type": "code",
      "source": [
        "ds.dtypes"
      ],
      "metadata": {
        "colab": {
          "base_uri": "https://localhost:8080/"
        },
        "id": "zZne8UWXAH8L",
        "outputId": "8ffda0d0-216d-42e8-fb21-6441dd5593bd"
      },
      "execution_count": null,
      "outputs": [
        {
          "output_type": "execute_result",
          "data": {
            "text/plain": [
              "Attrition                    object\n",
              "Age                           int64\n",
              "BusinessTravel               object\n",
              "DailyRate                     int64\n",
              "Department                   object\n",
              "DistanceFromHome              int64\n",
              "Education                     int64\n",
              "EducationField               object\n",
              "EnvironmentSatisfaction       int64\n",
              "Gender                       object\n",
              "HourlyRate                  float64\n",
              "JobInvolvement                int64\n",
              "JobLevel                      int64\n",
              "JobRole                      object\n",
              "JobSatisfaction               int64\n",
              "MaritalStatus                object\n",
              "MonthlyIncome                 int64\n",
              "MonthlyRate                   int64\n",
              "NumCompaniesWorked            int64\n",
              "OverTime                     object\n",
              "PercentSalaryHike             int64\n",
              "PerformanceRating             int64\n",
              "RelationshipSatisfaction      int64\n",
              "TotalWorkingYears             int64\n",
              "YearsAtCompany                int64\n",
              "dtype: object"
            ]
          },
          "metadata": {},
          "execution_count": 7
        }
      ]
    },
    {
      "cell_type": "markdown",
      "source": [
        "*   **Mengisi missing value atribut data training dengan type data angka/numerik menggunakan mean**"
      ],
      "metadata": {
        "id": "pqdnm-l5Bxob"
      }
    },
    {
      "cell_type": "code",
      "source": [
        "import numpy as np\n",
        "numeric_atr = ds.select_dtypes(include=np.number)\n",
        "numeric_columns = numeric_atr.columns\n",
        "ds[numeric_columns] = ds[numeric_columns].fillna(ds.mean())"
      ],
      "metadata": {
        "colab": {
          "base_uri": "https://localhost:8080/"
        },
        "id": "3wLjUOlHAsJO",
        "outputId": "e11b5282-a0dc-4b1f-fb05-3ed36edf48f9"
      },
      "execution_count": null,
      "outputs": [
        {
          "output_type": "stream",
          "name": "stderr",
          "text": [
            "<ipython-input-8-d575a8ebd940>:4: FutureWarning: The default value of numeric_only in DataFrame.mean is deprecated. In a future version, it will default to False. In addition, specifying 'numeric_only=None' is deprecated. Select only valid columns or specify the value of numeric_only to silence this warning.\n",
            "  ds[numeric_columns] = ds[numeric_columns].fillna(ds.mean())\n"
          ]
        }
      ]
    },
    {
      "cell_type": "code",
      "source": [
        "ds.isnull().sum()"
      ],
      "metadata": {
        "colab": {
          "base_uri": "https://localhost:8080/"
        },
        "id": "Pu6LpUIZCczA",
        "outputId": "8cecf631-50a2-4ef7-cb01-614663f8def5"
      },
      "execution_count": null,
      "outputs": [
        {
          "output_type": "execute_result",
          "data": {
            "text/plain": [
              "Attrition                    0\n",
              "Age                          0\n",
              "BusinessTravel              55\n",
              "DailyRate                    0\n",
              "Department                   0\n",
              "DistanceFromHome             0\n",
              "Education                    0\n",
              "EducationField               0\n",
              "EnvironmentSatisfaction      0\n",
              "Gender                       0\n",
              "HourlyRate                   0\n",
              "JobInvolvement               0\n",
              "JobLevel                     0\n",
              "JobRole                      0\n",
              "JobSatisfaction              0\n",
              "MaritalStatus                0\n",
              "MonthlyIncome                0\n",
              "MonthlyRate                  0\n",
              "NumCompaniesWorked           0\n",
              "OverTime                     0\n",
              "PercentSalaryHike            0\n",
              "PerformanceRating            0\n",
              "RelationshipSatisfaction     0\n",
              "TotalWorkingYears            0\n",
              "YearsAtCompany               0\n",
              "dtype: int64"
            ]
          },
          "metadata": {},
          "execution_count": 9
        }
      ]
    },
    {
      "cell_type": "markdown",
      "source": [
        "*   **Mengisi missing value atribut data training dengan type data object menggunakan modulus**"
      ],
      "metadata": {
        "id": "T9AyTs_ZFmyE"
      }
    },
    {
      "cell_type": "code",
      "source": [
        "object_columns = ds.select_dtypes(include='object').columns.tolist() #menyimpan kolom bertipe object\n",
        "object_columns.remove('Attrition') #membuang kolom 'class' supaya tidak di imputasi"
      ],
      "metadata": {
        "id": "OIPUEgWfxFO2"
      },
      "execution_count": null,
      "outputs": []
    },
    {
      "cell_type": "code",
      "source": [
        "ds = ds.fillna(ds.mode().iloc[0])"
      ],
      "metadata": {
        "id": "yutdYYF9Ex0d"
      },
      "execution_count": null,
      "outputs": []
    },
    {
      "cell_type": "code",
      "source": [
        "ds.isnull().sum()"
      ],
      "metadata": {
        "colab": {
          "base_uri": "https://localhost:8080/"
        },
        "id": "_Icn2GRjGUjH",
        "outputId": "e8e08dfc-1011-40ca-d60d-4f43664c2600"
      },
      "execution_count": null,
      "outputs": [
        {
          "output_type": "execute_result",
          "data": {
            "text/plain": [
              "Attrition                   0\n",
              "Age                         0\n",
              "BusinessTravel              0\n",
              "DailyRate                   0\n",
              "Department                  0\n",
              "DistanceFromHome            0\n",
              "Education                   0\n",
              "EducationField              0\n",
              "EnvironmentSatisfaction     0\n",
              "Gender                      0\n",
              "HourlyRate                  0\n",
              "JobInvolvement              0\n",
              "JobLevel                    0\n",
              "JobRole                     0\n",
              "JobSatisfaction             0\n",
              "MaritalStatus               0\n",
              "MonthlyIncome               0\n",
              "MonthlyRate                 0\n",
              "NumCompaniesWorked          0\n",
              "OverTime                    0\n",
              "PercentSalaryHike           0\n",
              "PerformanceRating           0\n",
              "RelationshipSatisfaction    0\n",
              "TotalWorkingYears           0\n",
              "YearsAtCompany              0\n",
              "dtype: int64"
            ]
          },
          "metadata": {},
          "execution_count": 12
        }
      ]
    },
    {
      "cell_type": "code",
      "source": [
        "ds.head(20)"
      ],
      "metadata": {
        "colab": {
          "base_uri": "https://localhost:8080/",
          "height": 1000
        },
        "id": "XnNzHPiNO1IZ",
        "outputId": "45985ae2-0da3-4da4-99f2-927a4f5c6071"
      },
      "execution_count": null,
      "outputs": [
        {
          "output_type": "execute_result",
          "data": {
            "text/plain": [
              "   Attrition  Age     BusinessTravel  DailyRate              Department  \\\n",
              "0        Yes   41      Travel_Rarely       1102                   Sales   \n",
              "1         No   49  Travel_Frequently        279  Research & Development   \n",
              "2        Yes   37      Travel_Rarely       1373  Research & Development   \n",
              "3         No   33  Travel_Frequently       1392  Research & Development   \n",
              "4         No   27      Travel_Rarely        591  Research & Development   \n",
              "5         No   32  Travel_Frequently       1005  Research & Development   \n",
              "6         No   59      Travel_Rarely       1324  Research & Development   \n",
              "7         No   30      Travel_Rarely       1358  Research & Development   \n",
              "8         No   38  Travel_Frequently        216  Research & Development   \n",
              "9         No   36      Travel_Rarely       1299  Research & Development   \n",
              "10        No   35      Travel_Rarely        809  Research & Development   \n",
              "11        No   29      Travel_Rarely        153  Research & Development   \n",
              "12        No   31      Travel_Rarely        670  Research & Development   \n",
              "13        No   34      Travel_Rarely       1346  Research & Development   \n",
              "14       Yes   28      Travel_Rarely        103  Research & Development   \n",
              "15        No   29      Travel_Rarely       1389  Research & Development   \n",
              "16        No   32      Travel_Rarely        334  Research & Development   \n",
              "17        No   22         Non-Travel       1123  Research & Development   \n",
              "18        No   53      Travel_Rarely       1219                   Sales   \n",
              "19        No   38      Travel_Rarely        371  Research & Development   \n",
              "\n",
              "    DistanceFromHome  Education EducationField  EnvironmentSatisfaction  \\\n",
              "0                  1          2  Life Sciences                        2   \n",
              "1                  8          1  Life Sciences                        3   \n",
              "2                  2          2          Other                        4   \n",
              "3                  3          4  Life Sciences                        4   \n",
              "4                  2          1        Medical                        1   \n",
              "5                  2          2  Life Sciences                        4   \n",
              "6                  3          3        Medical                        3   \n",
              "7                 24          1  Life Sciences                        4   \n",
              "8                 23          3  Life Sciences                        4   \n",
              "9                 27          3        Medical                        3   \n",
              "10                16          3        Medical                        1   \n",
              "11                15          2  Life Sciences                        4   \n",
              "12                26          1  Life Sciences                        1   \n",
              "13                19          2        Medical                        2   \n",
              "14                24          3  Life Sciences                        3   \n",
              "15                21          4  Life Sciences                        2   \n",
              "16                 5          2  Life Sciences                        1   \n",
              "17                16          2        Medical                        4   \n",
              "18                 2          4  Life Sciences                        1   \n",
              "19                 2          3  Life Sciences                        4   \n",
              "\n",
              "    Gender  ...  MaritalStatus  MonthlyIncome  MonthlyRate NumCompaniesWorked  \\\n",
              "0   Female  ...         Single           5993        19479                  8   \n",
              "1     Male  ...        Married           5130        24907                  1   \n",
              "2     Male  ...         Single           2090         2396                  6   \n",
              "3   Female  ...        Married           2909        23159                  1   \n",
              "4     Male  ...        Married           3468        16632                  9   \n",
              "5     Male  ...         Single           3068        11864                  0   \n",
              "6   Female  ...        Married           2670         9964                  4   \n",
              "7     Male  ...       Divorced           2693        13335                  1   \n",
              "8     Male  ...         Single           9526         8787                  0   \n",
              "9     Male  ...        Married           5237        16577                  6   \n",
              "10    Male  ...        Married           2426        16479                  0   \n",
              "11  Female  ...         Single           4193        12682                  0   \n",
              "12    Male  ...       Divorced           2911        15170                  1   \n",
              "13    Male  ...       Divorced           2661         8758                  0   \n",
              "14    Male  ...         Single           2028        12947                  5   \n",
              "15  Female  ...       Divorced           9980        10195                  1   \n",
              "16    Male  ...       Divorced           3298        15053                  0   \n",
              "17    Male  ...       Divorced           2935         7324                  1   \n",
              "18  Female  ...        Married          15427        22021                  2   \n",
              "19    Male  ...         Single           3944         4306                  5   \n",
              "\n",
              "    OverTime PercentSalaryHike  PerformanceRating  RelationshipSatisfaction  \\\n",
              "0        Yes                11                  3                         1   \n",
              "1         No                23                  4                         4   \n",
              "2        Yes                15                  3                         2   \n",
              "3        Yes                11                  3                         3   \n",
              "4         No                12                  3                         4   \n",
              "5         No                13                  3                         3   \n",
              "6        Yes                20                  4                         1   \n",
              "7         No                22                  4                         2   \n",
              "8         No                21                  4                         2   \n",
              "9         No                13                  3                         2   \n",
              "10        No                13                  3                         3   \n",
              "11       Yes                12                  3                         4   \n",
              "12        No                17                  3                         4   \n",
              "13        No                11                  3                         3   \n",
              "14       Yes                14                  3                         2   \n",
              "15        No                11                  3                         3   \n",
              "16       Yes                12                  3                         4   \n",
              "17       Yes                13                  3                         2   \n",
              "18        No                16                  3                         3   \n",
              "19       Yes                11                  3                         3   \n",
              "\n",
              "    TotalWorkingYears YearsAtCompany  \n",
              "0                   8              6  \n",
              "1                  10             10  \n",
              "2                   7              0  \n",
              "3                   8              8  \n",
              "4                   6              2  \n",
              "5                   8              7  \n",
              "6                  12              1  \n",
              "7                   1              1  \n",
              "8                  10              9  \n",
              "9                  17              7  \n",
              "10                  6              5  \n",
              "11                 10              9  \n",
              "12                  5              5  \n",
              "13                  3              2  \n",
              "14                  6              4  \n",
              "15                 10             10  \n",
              "16                  7              6  \n",
              "17                  1              1  \n",
              "18                 31             25  \n",
              "19                  6              3  \n",
              "\n",
              "[20 rows x 25 columns]"
            ],
            "text/html": [
              "\n",
              "  <div id=\"df-0e891931-d47b-407d-b866-9963e04da12d\">\n",
              "    <div class=\"colab-df-container\">\n",
              "      <div>\n",
              "<style scoped>\n",
              "    .dataframe tbody tr th:only-of-type {\n",
              "        vertical-align: middle;\n",
              "    }\n",
              "\n",
              "    .dataframe tbody tr th {\n",
              "        vertical-align: top;\n",
              "    }\n",
              "\n",
              "    .dataframe thead th {\n",
              "        text-align: right;\n",
              "    }\n",
              "</style>\n",
              "<table border=\"1\" class=\"dataframe\">\n",
              "  <thead>\n",
              "    <tr style=\"text-align: right;\">\n",
              "      <th></th>\n",
              "      <th>Attrition</th>\n",
              "      <th>Age</th>\n",
              "      <th>BusinessTravel</th>\n",
              "      <th>DailyRate</th>\n",
              "      <th>Department</th>\n",
              "      <th>DistanceFromHome</th>\n",
              "      <th>Education</th>\n",
              "      <th>EducationField</th>\n",
              "      <th>EnvironmentSatisfaction</th>\n",
              "      <th>Gender</th>\n",
              "      <th>...</th>\n",
              "      <th>MaritalStatus</th>\n",
              "      <th>MonthlyIncome</th>\n",
              "      <th>MonthlyRate</th>\n",
              "      <th>NumCompaniesWorked</th>\n",
              "      <th>OverTime</th>\n",
              "      <th>PercentSalaryHike</th>\n",
              "      <th>PerformanceRating</th>\n",
              "      <th>RelationshipSatisfaction</th>\n",
              "      <th>TotalWorkingYears</th>\n",
              "      <th>YearsAtCompany</th>\n",
              "    </tr>\n",
              "  </thead>\n",
              "  <tbody>\n",
              "    <tr>\n",
              "      <th>0</th>\n",
              "      <td>Yes</td>\n",
              "      <td>41</td>\n",
              "      <td>Travel_Rarely</td>\n",
              "      <td>1102</td>\n",
              "      <td>Sales</td>\n",
              "      <td>1</td>\n",
              "      <td>2</td>\n",
              "      <td>Life Sciences</td>\n",
              "      <td>2</td>\n",
              "      <td>Female</td>\n",
              "      <td>...</td>\n",
              "      <td>Single</td>\n",
              "      <td>5993</td>\n",
              "      <td>19479</td>\n",
              "      <td>8</td>\n",
              "      <td>Yes</td>\n",
              "      <td>11</td>\n",
              "      <td>3</td>\n",
              "      <td>1</td>\n",
              "      <td>8</td>\n",
              "      <td>6</td>\n",
              "    </tr>\n",
              "    <tr>\n",
              "      <th>1</th>\n",
              "      <td>No</td>\n",
              "      <td>49</td>\n",
              "      <td>Travel_Frequently</td>\n",
              "      <td>279</td>\n",
              "      <td>Research &amp; Development</td>\n",
              "      <td>8</td>\n",
              "      <td>1</td>\n",
              "      <td>Life Sciences</td>\n",
              "      <td>3</td>\n",
              "      <td>Male</td>\n",
              "      <td>...</td>\n",
              "      <td>Married</td>\n",
              "      <td>5130</td>\n",
              "      <td>24907</td>\n",
              "      <td>1</td>\n",
              "      <td>No</td>\n",
              "      <td>23</td>\n",
              "      <td>4</td>\n",
              "      <td>4</td>\n",
              "      <td>10</td>\n",
              "      <td>10</td>\n",
              "    </tr>\n",
              "    <tr>\n",
              "      <th>2</th>\n",
              "      <td>Yes</td>\n",
              "      <td>37</td>\n",
              "      <td>Travel_Rarely</td>\n",
              "      <td>1373</td>\n",
              "      <td>Research &amp; Development</td>\n",
              "      <td>2</td>\n",
              "      <td>2</td>\n",
              "      <td>Other</td>\n",
              "      <td>4</td>\n",
              "      <td>Male</td>\n",
              "      <td>...</td>\n",
              "      <td>Single</td>\n",
              "      <td>2090</td>\n",
              "      <td>2396</td>\n",
              "      <td>6</td>\n",
              "      <td>Yes</td>\n",
              "      <td>15</td>\n",
              "      <td>3</td>\n",
              "      <td>2</td>\n",
              "      <td>7</td>\n",
              "      <td>0</td>\n",
              "    </tr>\n",
              "    <tr>\n",
              "      <th>3</th>\n",
              "      <td>No</td>\n",
              "      <td>33</td>\n",
              "      <td>Travel_Frequently</td>\n",
              "      <td>1392</td>\n",
              "      <td>Research &amp; Development</td>\n",
              "      <td>3</td>\n",
              "      <td>4</td>\n",
              "      <td>Life Sciences</td>\n",
              "      <td>4</td>\n",
              "      <td>Female</td>\n",
              "      <td>...</td>\n",
              "      <td>Married</td>\n",
              "      <td>2909</td>\n",
              "      <td>23159</td>\n",
              "      <td>1</td>\n",
              "      <td>Yes</td>\n",
              "      <td>11</td>\n",
              "      <td>3</td>\n",
              "      <td>3</td>\n",
              "      <td>8</td>\n",
              "      <td>8</td>\n",
              "    </tr>\n",
              "    <tr>\n",
              "      <th>4</th>\n",
              "      <td>No</td>\n",
              "      <td>27</td>\n",
              "      <td>Travel_Rarely</td>\n",
              "      <td>591</td>\n",
              "      <td>Research &amp; Development</td>\n",
              "      <td>2</td>\n",
              "      <td>1</td>\n",
              "      <td>Medical</td>\n",
              "      <td>1</td>\n",
              "      <td>Male</td>\n",
              "      <td>...</td>\n",
              "      <td>Married</td>\n",
              "      <td>3468</td>\n",
              "      <td>16632</td>\n",
              "      <td>9</td>\n",
              "      <td>No</td>\n",
              "      <td>12</td>\n",
              "      <td>3</td>\n",
              "      <td>4</td>\n",
              "      <td>6</td>\n",
              "      <td>2</td>\n",
              "    </tr>\n",
              "    <tr>\n",
              "      <th>5</th>\n",
              "      <td>No</td>\n",
              "      <td>32</td>\n",
              "      <td>Travel_Frequently</td>\n",
              "      <td>1005</td>\n",
              "      <td>Research &amp; Development</td>\n",
              "      <td>2</td>\n",
              "      <td>2</td>\n",
              "      <td>Life Sciences</td>\n",
              "      <td>4</td>\n",
              "      <td>Male</td>\n",
              "      <td>...</td>\n",
              "      <td>Single</td>\n",
              "      <td>3068</td>\n",
              "      <td>11864</td>\n",
              "      <td>0</td>\n",
              "      <td>No</td>\n",
              "      <td>13</td>\n",
              "      <td>3</td>\n",
              "      <td>3</td>\n",
              "      <td>8</td>\n",
              "      <td>7</td>\n",
              "    </tr>\n",
              "    <tr>\n",
              "      <th>6</th>\n",
              "      <td>No</td>\n",
              "      <td>59</td>\n",
              "      <td>Travel_Rarely</td>\n",
              "      <td>1324</td>\n",
              "      <td>Research &amp; Development</td>\n",
              "      <td>3</td>\n",
              "      <td>3</td>\n",
              "      <td>Medical</td>\n",
              "      <td>3</td>\n",
              "      <td>Female</td>\n",
              "      <td>...</td>\n",
              "      <td>Married</td>\n",
              "      <td>2670</td>\n",
              "      <td>9964</td>\n",
              "      <td>4</td>\n",
              "      <td>Yes</td>\n",
              "      <td>20</td>\n",
              "      <td>4</td>\n",
              "      <td>1</td>\n",
              "      <td>12</td>\n",
              "      <td>1</td>\n",
              "    </tr>\n",
              "    <tr>\n",
              "      <th>7</th>\n",
              "      <td>No</td>\n",
              "      <td>30</td>\n",
              "      <td>Travel_Rarely</td>\n",
              "      <td>1358</td>\n",
              "      <td>Research &amp; Development</td>\n",
              "      <td>24</td>\n",
              "      <td>1</td>\n",
              "      <td>Life Sciences</td>\n",
              "      <td>4</td>\n",
              "      <td>Male</td>\n",
              "      <td>...</td>\n",
              "      <td>Divorced</td>\n",
              "      <td>2693</td>\n",
              "      <td>13335</td>\n",
              "      <td>1</td>\n",
              "      <td>No</td>\n",
              "      <td>22</td>\n",
              "      <td>4</td>\n",
              "      <td>2</td>\n",
              "      <td>1</td>\n",
              "      <td>1</td>\n",
              "    </tr>\n",
              "    <tr>\n",
              "      <th>8</th>\n",
              "      <td>No</td>\n",
              "      <td>38</td>\n",
              "      <td>Travel_Frequently</td>\n",
              "      <td>216</td>\n",
              "      <td>Research &amp; Development</td>\n",
              "      <td>23</td>\n",
              "      <td>3</td>\n",
              "      <td>Life Sciences</td>\n",
              "      <td>4</td>\n",
              "      <td>Male</td>\n",
              "      <td>...</td>\n",
              "      <td>Single</td>\n",
              "      <td>9526</td>\n",
              "      <td>8787</td>\n",
              "      <td>0</td>\n",
              "      <td>No</td>\n",
              "      <td>21</td>\n",
              "      <td>4</td>\n",
              "      <td>2</td>\n",
              "      <td>10</td>\n",
              "      <td>9</td>\n",
              "    </tr>\n",
              "    <tr>\n",
              "      <th>9</th>\n",
              "      <td>No</td>\n",
              "      <td>36</td>\n",
              "      <td>Travel_Rarely</td>\n",
              "      <td>1299</td>\n",
              "      <td>Research &amp; Development</td>\n",
              "      <td>27</td>\n",
              "      <td>3</td>\n",
              "      <td>Medical</td>\n",
              "      <td>3</td>\n",
              "      <td>Male</td>\n",
              "      <td>...</td>\n",
              "      <td>Married</td>\n",
              "      <td>5237</td>\n",
              "      <td>16577</td>\n",
              "      <td>6</td>\n",
              "      <td>No</td>\n",
              "      <td>13</td>\n",
              "      <td>3</td>\n",
              "      <td>2</td>\n",
              "      <td>17</td>\n",
              "      <td>7</td>\n",
              "    </tr>\n",
              "    <tr>\n",
              "      <th>10</th>\n",
              "      <td>No</td>\n",
              "      <td>35</td>\n",
              "      <td>Travel_Rarely</td>\n",
              "      <td>809</td>\n",
              "      <td>Research &amp; Development</td>\n",
              "      <td>16</td>\n",
              "      <td>3</td>\n",
              "      <td>Medical</td>\n",
              "      <td>1</td>\n",
              "      <td>Male</td>\n",
              "      <td>...</td>\n",
              "      <td>Married</td>\n",
              "      <td>2426</td>\n",
              "      <td>16479</td>\n",
              "      <td>0</td>\n",
              "      <td>No</td>\n",
              "      <td>13</td>\n",
              "      <td>3</td>\n",
              "      <td>3</td>\n",
              "      <td>6</td>\n",
              "      <td>5</td>\n",
              "    </tr>\n",
              "    <tr>\n",
              "      <th>11</th>\n",
              "      <td>No</td>\n",
              "      <td>29</td>\n",
              "      <td>Travel_Rarely</td>\n",
              "      <td>153</td>\n",
              "      <td>Research &amp; Development</td>\n",
              "      <td>15</td>\n",
              "      <td>2</td>\n",
              "      <td>Life Sciences</td>\n",
              "      <td>4</td>\n",
              "      <td>Female</td>\n",
              "      <td>...</td>\n",
              "      <td>Single</td>\n",
              "      <td>4193</td>\n",
              "      <td>12682</td>\n",
              "      <td>0</td>\n",
              "      <td>Yes</td>\n",
              "      <td>12</td>\n",
              "      <td>3</td>\n",
              "      <td>4</td>\n",
              "      <td>10</td>\n",
              "      <td>9</td>\n",
              "    </tr>\n",
              "    <tr>\n",
              "      <th>12</th>\n",
              "      <td>No</td>\n",
              "      <td>31</td>\n",
              "      <td>Travel_Rarely</td>\n",
              "      <td>670</td>\n",
              "      <td>Research &amp; Development</td>\n",
              "      <td>26</td>\n",
              "      <td>1</td>\n",
              "      <td>Life Sciences</td>\n",
              "      <td>1</td>\n",
              "      <td>Male</td>\n",
              "      <td>...</td>\n",
              "      <td>Divorced</td>\n",
              "      <td>2911</td>\n",
              "      <td>15170</td>\n",
              "      <td>1</td>\n",
              "      <td>No</td>\n",
              "      <td>17</td>\n",
              "      <td>3</td>\n",
              "      <td>4</td>\n",
              "      <td>5</td>\n",
              "      <td>5</td>\n",
              "    </tr>\n",
              "    <tr>\n",
              "      <th>13</th>\n",
              "      <td>No</td>\n",
              "      <td>34</td>\n",
              "      <td>Travel_Rarely</td>\n",
              "      <td>1346</td>\n",
              "      <td>Research &amp; Development</td>\n",
              "      <td>19</td>\n",
              "      <td>2</td>\n",
              "      <td>Medical</td>\n",
              "      <td>2</td>\n",
              "      <td>Male</td>\n",
              "      <td>...</td>\n",
              "      <td>Divorced</td>\n",
              "      <td>2661</td>\n",
              "      <td>8758</td>\n",
              "      <td>0</td>\n",
              "      <td>No</td>\n",
              "      <td>11</td>\n",
              "      <td>3</td>\n",
              "      <td>3</td>\n",
              "      <td>3</td>\n",
              "      <td>2</td>\n",
              "    </tr>\n",
              "    <tr>\n",
              "      <th>14</th>\n",
              "      <td>Yes</td>\n",
              "      <td>28</td>\n",
              "      <td>Travel_Rarely</td>\n",
              "      <td>103</td>\n",
              "      <td>Research &amp; Development</td>\n",
              "      <td>24</td>\n",
              "      <td>3</td>\n",
              "      <td>Life Sciences</td>\n",
              "      <td>3</td>\n",
              "      <td>Male</td>\n",
              "      <td>...</td>\n",
              "      <td>Single</td>\n",
              "      <td>2028</td>\n",
              "      <td>12947</td>\n",
              "      <td>5</td>\n",
              "      <td>Yes</td>\n",
              "      <td>14</td>\n",
              "      <td>3</td>\n",
              "      <td>2</td>\n",
              "      <td>6</td>\n",
              "      <td>4</td>\n",
              "    </tr>\n",
              "    <tr>\n",
              "      <th>15</th>\n",
              "      <td>No</td>\n",
              "      <td>29</td>\n",
              "      <td>Travel_Rarely</td>\n",
              "      <td>1389</td>\n",
              "      <td>Research &amp; Development</td>\n",
              "      <td>21</td>\n",
              "      <td>4</td>\n",
              "      <td>Life Sciences</td>\n",
              "      <td>2</td>\n",
              "      <td>Female</td>\n",
              "      <td>...</td>\n",
              "      <td>Divorced</td>\n",
              "      <td>9980</td>\n",
              "      <td>10195</td>\n",
              "      <td>1</td>\n",
              "      <td>No</td>\n",
              "      <td>11</td>\n",
              "      <td>3</td>\n",
              "      <td>3</td>\n",
              "      <td>10</td>\n",
              "      <td>10</td>\n",
              "    </tr>\n",
              "    <tr>\n",
              "      <th>16</th>\n",
              "      <td>No</td>\n",
              "      <td>32</td>\n",
              "      <td>Travel_Rarely</td>\n",
              "      <td>334</td>\n",
              "      <td>Research &amp; Development</td>\n",
              "      <td>5</td>\n",
              "      <td>2</td>\n",
              "      <td>Life Sciences</td>\n",
              "      <td>1</td>\n",
              "      <td>Male</td>\n",
              "      <td>...</td>\n",
              "      <td>Divorced</td>\n",
              "      <td>3298</td>\n",
              "      <td>15053</td>\n",
              "      <td>0</td>\n",
              "      <td>Yes</td>\n",
              "      <td>12</td>\n",
              "      <td>3</td>\n",
              "      <td>4</td>\n",
              "      <td>7</td>\n",
              "      <td>6</td>\n",
              "    </tr>\n",
              "    <tr>\n",
              "      <th>17</th>\n",
              "      <td>No</td>\n",
              "      <td>22</td>\n",
              "      <td>Non-Travel</td>\n",
              "      <td>1123</td>\n",
              "      <td>Research &amp; Development</td>\n",
              "      <td>16</td>\n",
              "      <td>2</td>\n",
              "      <td>Medical</td>\n",
              "      <td>4</td>\n",
              "      <td>Male</td>\n",
              "      <td>...</td>\n",
              "      <td>Divorced</td>\n",
              "      <td>2935</td>\n",
              "      <td>7324</td>\n",
              "      <td>1</td>\n",
              "      <td>Yes</td>\n",
              "      <td>13</td>\n",
              "      <td>3</td>\n",
              "      <td>2</td>\n",
              "      <td>1</td>\n",
              "      <td>1</td>\n",
              "    </tr>\n",
              "    <tr>\n",
              "      <th>18</th>\n",
              "      <td>No</td>\n",
              "      <td>53</td>\n",
              "      <td>Travel_Rarely</td>\n",
              "      <td>1219</td>\n",
              "      <td>Sales</td>\n",
              "      <td>2</td>\n",
              "      <td>4</td>\n",
              "      <td>Life Sciences</td>\n",
              "      <td>1</td>\n",
              "      <td>Female</td>\n",
              "      <td>...</td>\n",
              "      <td>Married</td>\n",
              "      <td>15427</td>\n",
              "      <td>22021</td>\n",
              "      <td>2</td>\n",
              "      <td>No</td>\n",
              "      <td>16</td>\n",
              "      <td>3</td>\n",
              "      <td>3</td>\n",
              "      <td>31</td>\n",
              "      <td>25</td>\n",
              "    </tr>\n",
              "    <tr>\n",
              "      <th>19</th>\n",
              "      <td>No</td>\n",
              "      <td>38</td>\n",
              "      <td>Travel_Rarely</td>\n",
              "      <td>371</td>\n",
              "      <td>Research &amp; Development</td>\n",
              "      <td>2</td>\n",
              "      <td>3</td>\n",
              "      <td>Life Sciences</td>\n",
              "      <td>4</td>\n",
              "      <td>Male</td>\n",
              "      <td>...</td>\n",
              "      <td>Single</td>\n",
              "      <td>3944</td>\n",
              "      <td>4306</td>\n",
              "      <td>5</td>\n",
              "      <td>Yes</td>\n",
              "      <td>11</td>\n",
              "      <td>3</td>\n",
              "      <td>3</td>\n",
              "      <td>6</td>\n",
              "      <td>3</td>\n",
              "    </tr>\n",
              "  </tbody>\n",
              "</table>\n",
              "<p>20 rows × 25 columns</p>\n",
              "</div>\n",
              "      <button class=\"colab-df-convert\" onclick=\"convertToInteractive('df-0e891931-d47b-407d-b866-9963e04da12d')\"\n",
              "              title=\"Convert this dataframe to an interactive table.\"\n",
              "              style=\"display:none;\">\n",
              "        \n",
              "  <svg xmlns=\"http://www.w3.org/2000/svg\" height=\"24px\"viewBox=\"0 0 24 24\"\n",
              "       width=\"24px\">\n",
              "    <path d=\"M0 0h24v24H0V0z\" fill=\"none\"/>\n",
              "    <path d=\"M18.56 5.44l.94 2.06.94-2.06 2.06-.94-2.06-.94-.94-2.06-.94 2.06-2.06.94zm-11 1L8.5 8.5l.94-2.06 2.06-.94-2.06-.94L8.5 2.5l-.94 2.06-2.06.94zm10 10l.94 2.06.94-2.06 2.06-.94-2.06-.94-.94-2.06-.94 2.06-2.06.94z\"/><path d=\"M17.41 7.96l-1.37-1.37c-.4-.4-.92-.59-1.43-.59-.52 0-1.04.2-1.43.59L10.3 9.45l-7.72 7.72c-.78.78-.78 2.05 0 2.83L4 21.41c.39.39.9.59 1.41.59.51 0 1.02-.2 1.41-.59l7.78-7.78 2.81-2.81c.8-.78.8-2.07 0-2.86zM5.41 20L4 18.59l7.72-7.72 1.47 1.35L5.41 20z\"/>\n",
              "  </svg>\n",
              "      </button>\n",
              "      \n",
              "  <style>\n",
              "    .colab-df-container {\n",
              "      display:flex;\n",
              "      flex-wrap:wrap;\n",
              "      gap: 12px;\n",
              "    }\n",
              "\n",
              "    .colab-df-convert {\n",
              "      background-color: #E8F0FE;\n",
              "      border: none;\n",
              "      border-radius: 50%;\n",
              "      cursor: pointer;\n",
              "      display: none;\n",
              "      fill: #1967D2;\n",
              "      height: 32px;\n",
              "      padding: 0 0 0 0;\n",
              "      width: 32px;\n",
              "    }\n",
              "\n",
              "    .colab-df-convert:hover {\n",
              "      background-color: #E2EBFA;\n",
              "      box-shadow: 0px 1px 2px rgba(60, 64, 67, 0.3), 0px 1px 3px 1px rgba(60, 64, 67, 0.15);\n",
              "      fill: #174EA6;\n",
              "    }\n",
              "\n",
              "    [theme=dark] .colab-df-convert {\n",
              "      background-color: #3B4455;\n",
              "      fill: #D2E3FC;\n",
              "    }\n",
              "\n",
              "    [theme=dark] .colab-df-convert:hover {\n",
              "      background-color: #434B5C;\n",
              "      box-shadow: 0px 1px 3px 1px rgba(0, 0, 0, 0.15);\n",
              "      filter: drop-shadow(0px 1px 2px rgba(0, 0, 0, 0.3));\n",
              "      fill: #FFFFFF;\n",
              "    }\n",
              "  </style>\n",
              "\n",
              "      <script>\n",
              "        const buttonEl =\n",
              "          document.querySelector('#df-0e891931-d47b-407d-b866-9963e04da12d button.colab-df-convert');\n",
              "        buttonEl.style.display =\n",
              "          google.colab.kernel.accessAllowed ? 'block' : 'none';\n",
              "\n",
              "        async function convertToInteractive(key) {\n",
              "          const element = document.querySelector('#df-0e891931-d47b-407d-b866-9963e04da12d');\n",
              "          const dataTable =\n",
              "            await google.colab.kernel.invokeFunction('convertToInteractive',\n",
              "                                                     [key], {});\n",
              "          if (!dataTable) return;\n",
              "\n",
              "          const docLinkHtml = 'Like what you see? Visit the ' +\n",
              "            '<a target=\"_blank\" href=https://colab.research.google.com/notebooks/data_table.ipynb>data table notebook</a>'\n",
              "            + ' to learn more about interactive tables.';\n",
              "          element.innerHTML = '';\n",
              "          dataTable['output_type'] = 'display_data';\n",
              "          await google.colab.output.renderOutput(dataTable, element);\n",
              "          const docLink = document.createElement('div');\n",
              "          docLink.innerHTML = docLinkHtml;\n",
              "          element.appendChild(docLink);\n",
              "        }\n",
              "      </script>\n",
              "    </div>\n",
              "  </div>\n",
              "  "
            ]
          },
          "metadata": {},
          "execution_count": 13
        }
      ]
    },
    {
      "cell_type": "code",
      "source": [
        "import seaborn as sns\n",
        "sns.set(style='darkgrid')\n",
        "chart=sns.countplot(x='Gender', data=ds,hue='Attrition')\n",
        "chart.set_xticklabels(['Female','Male'])"
      ],
      "metadata": {
        "colab": {
          "base_uri": "https://localhost:8080/",
          "height": 475
        },
        "id": "q_zxVcrIcoxt",
        "outputId": "93af3970-7f84-46b9-a01e-96b4a4b42f0d"
      },
      "execution_count": null,
      "outputs": [
        {
          "output_type": "execute_result",
          "data": {
            "text/plain": [
              "[Text(0, 0, 'Female'), Text(1, 0, 'Male')]"
            ]
          },
          "metadata": {},
          "execution_count": 32
        },
        {
          "output_type": "display_data",
          "data": {
            "text/plain": [
              "<Figure size 640x480 with 1 Axes>"
            ],
            "image/png": "[encoded data removed]"
          },
          "metadata": {}
        }
      ]
    },
    {
      "cell_type": "markdown",
      "source": [
        "\n",
        "\n",
        "*   **Melakukan Label Encoding**\n",
        "\n"
      ],
      "metadata": {
        "id": "AjCfioYG6uht"
      }
    },
    {
      "cell_type": "code",
      "source": [
        "from sklearn.preprocessing import LabelEncoder, StandardScaler\n",
        "#model pada decision tree di library scikit-learn tidak dapat menghandle fitur-fitur dengan tipe data string secara langsung\n",
        "label_encoder = LabelEncoder()\n",
        "for kolom in object_columns:\n",
        "  ds[kolom] = label_encoder.fit_transform(ds[kolom])"
      ],
      "metadata": {
        "id": "dAQmLze3qhq1"
      },
      "execution_count": null,
      "outputs": []
    },
    {
      "cell_type": "markdown",
      "source": [
        "\n",
        "\n",
        "*   **Melakukan Scaling**\n",
        "\n"
      ],
      "metadata": {
        "id": "kyYsGVsP7ARz"
      }
    },
    {
      "cell_type": "code",
      "source": [
        "scaler = StandardScaler()\n",
        "ds[numeric_columns] = scaler.fit_transform(ds[numeric_columns])"
      ],
      "metadata": {
        "id": "wLZsXoMd2IuN"
      },
      "execution_count": null,
      "outputs": []
    },
    {
      "cell_type": "markdown",
      "source": [
        "# Decision Tree"
      ],
      "metadata": {
        "id": "KRLppVEw-Qus"
      }
    },
    {
      "cell_type": "code",
      "source": [
        "from sklearn.tree import DecisionTreeClassifier\n",
        "from sklearn.model_selection import cross_val_score\n",
        "from sklearn.tree import plot_tree\n",
        "import matplotlib.pyplot as plt\n",
        "from sklearn.model_selection import train_test_split\n",
        "from sklearn.metrics import accuracy_score, classification_report, confusion_matrix, f1_score"
      ],
      "metadata": {
        "id": "ob1KgcOQmjJJ"
      },
      "execution_count": null,
      "outputs": []
    },
    {
      "cell_type": "markdown",
      "source": [
        "*   **Ekstraksi Feature dan Label**"
      ],
      "metadata": {
        "id": "K5zH2y6_r5L0"
      }
    },
    {
      "cell_type": "code",
      "source": [
        "x = ds.drop('Attrition',axis = 1)\n",
        "y = ds['Attrition']\n",
        "\n",
        "x_train,x_tes,y_train,y_tes = train_test_split(x,y,test_size=0.2,random_state=42, stratify=y)"
      ],
      "metadata": {
        "id": "_RNrry2Dm0yN"
      },
      "execution_count": null,
      "outputs": []
    },
    {
      "cell_type": "markdown",
      "source": [
        "*   **Mencari Max_depth optimal dengan cross validation**"
      ],
      "metadata": {
        "id": "00S2m4IxpFSz"
      }
    },
    {
      "cell_type": "code",
      "source": [
        "max_depth_values = [2,3,4, 5,6, 7,8, 9,10, 11]\n",
        "model = DecisionTreeClassifier()\n",
        "for depth in max_depth_values:\n",
        "    model.max_depth = depth\n",
        "    scores = cross_val_score(model, x, y, cv=10)\n",
        "    mean_score = scores.mean()\n",
        "    print(f\"max_depth: {depth}, mean accuracy: {mean_score}\")"
      ],
      "metadata": {
        "colab": {
          "base_uri": "https://localhost:8080/"
        },
        "id": "t3mVhYs0nfSu",
        "outputId": "50397c85-c271-43b8-c09f-11767c0c19b9"
      },
      "execution_count": null,
      "outputs": [
        {
          "output_type": "stream",
          "name": "stdout",
          "text": [
            "max_depth: 2, mean accuracy: 0.8421768707482993\n",
            "max_depth: 3, mean accuracy: 0.8421768707482993\n",
            "max_depth: 4, mean accuracy: 0.8414965986394559\n",
            "max_depth: 5, mean accuracy: 0.8285714285714286\n",
            "max_depth: 6, mean accuracy: 0.8217687074829932\n",
            "max_depth: 7, mean accuracy: 0.8149659863945578\n",
            "max_depth: 8, mean accuracy: 0.8034013605442178\n",
            "max_depth: 9, mean accuracy: 0.8054421768707483\n",
            "max_depth: 10, mean accuracy: 0.7959183673469388\n",
            "max_depth: 11, mean accuracy: 0.7877551020408164\n"
          ]
        }
      ]
    },
    {
      "cell_type": "markdown",
      "source": [
        "*   **Inisiasi Model Decision Tree**"
      ],
      "metadata": {
        "id": "1EzwIqgsr8ZR"
      }
    },
    {
      "cell_type": "code",
      "source": [
        "model = DecisionTreeClassifier(criterion='gini',max_depth=11)\n",
        "model.fit(x_train,y_train)\n",
        "\n",
        "y_pred = model.predict(x_tes)"
      ],
      "metadata": {
        "id": "ErCXoShFwuY5"
      },
      "execution_count": null,
      "outputs": []
    },
    {
      "cell_type": "markdown",
      "source": [
        "*   **Akurasi Decision Tree**"
      ],
      "metadata": {
        "id": "-v9LMip6r-72"
      }
    },
    {
      "cell_type": "code",
      "source": [
        "print('Akurasi : ', accuracy_score(y_pred,y_tes))"
      ],
      "metadata": {
        "colab": {
          "base_uri": "https://localhost:8080/"
        },
        "id": "6XQOuX5bi-t7",
        "outputId": "4089c485-8d16-42bd-d6a9-a0a8d7369879"
      },
      "execution_count": null,
      "outputs": [
        {
          "output_type": "stream",
          "name": "stdout",
          "text": [
            "Akurasi :  0.7789115646258503\n"
          ]
        }
      ]
    },
    {
      "cell_type": "markdown",
      "source": [
        "*   **Inisiasi Model Decision Tree**"
      ],
      "metadata": {
        "id": "kALxWOYpK3xN"
      }
    },
    {
      "cell_type": "code",
      "source": [
        "model = DecisionTreeClassifier(criterion='entropy',max_depth=3)\n",
        "model.fit(x_train,y_train)\n",
        "\n",
        "y_pred = model.predict(x_tes)"
      ],
      "metadata": {
        "id": "Xsiy-Ab0nPmZ"
      },
      "execution_count": null,
      "outputs": []
    },
    {
      "cell_type": "markdown",
      "source": [
        "*   **Akurasi Decision Tree**"
      ],
      "metadata": {
        "id": "9gIfPwG9K1bw"
      }
    },
    {
      "cell_type": "code",
      "source": [
        "print('Akurasi Tree:',accuracy_score(y_tes,y_pred))"
      ],
      "metadata": {
        "colab": {
          "base_uri": "https://localhost:8080/"
        },
        "id": "Dx9ZT_lholjG",
        "outputId": "50618dc5-69a9-4c2a-8637-936f6729fd34"
      },
      "execution_count": null,
      "outputs": [
        {
          "output_type": "stream",
          "name": "stdout",
          "text": [
            "Akurasi Tree: 0.8605442176870748\n"
          ]
        }
      ]
    },
    {
      "cell_type": "markdown",
      "source": [
        "*   **Inisiasi Model Decision Tree**"
      ],
      "metadata": {
        "id": "PdjNl94KK4MS"
      }
    },
    {
      "cell_type": "code",
      "source": [
        "model = DecisionTreeClassifier(criterion='log_loss',max_depth=3)\n",
        "model.fit(x_train,y_train)\n",
        "\n",
        "y_pred = model.predict(x_tes)"
      ],
      "metadata": {
        "id": "367thGNuBUd6"
      },
      "execution_count": null,
      "outputs": []
    },
    {
      "cell_type": "markdown",
      "source": [
        "*   **Akurasi Decision Tree**"
      ],
      "metadata": {
        "id": "8Qtf2RILK2FU"
      }
    },
    {
      "cell_type": "code",
      "source": [
        "print('Akurasi : ', accuracy_score(y_pred,y_tes))"
      ],
      "metadata": {
        "colab": {
          "base_uri": "https://localhost:8080/"
        },
        "outputId": "5eec6888-0713-4dfa-c135-21821d4cf6dc",
        "id": "HBEFxMzZBUeB"
      },
      "execution_count": null,
      "outputs": [
        {
          "output_type": "stream",
          "name": "stdout",
          "text": [
            "Akurasi :  0.8605442176870748\n"
          ]
        }
      ]
    },
    {
      "cell_type": "markdown",
      "source": [
        "*   **Classification Report**"
      ],
      "metadata": {
        "id": "fo9xLrOJsBs6"
      }
    },
    {
      "cell_type": "code",
      "source": [
        "print(classification_report(y_tes,y_pred))"
      ],
      "metadata": {
        "colab": {
          "base_uri": "https://localhost:8080/"
        },
        "id": "il-wFTr7sLsj",
        "outputId": "8e208c42-e215-4df9-c913-87585a45029e"
      },
      "execution_count": null,
      "outputs": [
        {
          "output_type": "stream",
          "name": "stdout",
          "text": [
            "              precision    recall  f1-score   support\n",
            "\n",
            "          No       0.87      0.98      0.92       247\n",
            "         Yes       0.67      0.26      0.37        47\n",
            "\n",
            "    accuracy                           0.86       294\n",
            "   macro avg       0.77      0.62      0.65       294\n",
            "weighted avg       0.84      0.86      0.83       294\n",
            "\n"
          ]
        }
      ]
    },
    {
      "cell_type": "markdown",
      "source": [
        "*   **Confusion Matrix**"
      ],
      "metadata": {
        "id": "4juBHoKDsCbm"
      }
    },
    {
      "cell_type": "code",
      "source": [
        "print(confusion_matrix(y_tes,y_pred))"
      ],
      "metadata": {
        "colab": {
          "base_uri": "https://localhost:8080/"
        },
        "id": "LSQ8O3NIsiz8",
        "outputId": "53607632-0d65-4776-94ae-89d342fa2e44"
      },
      "execution_count": null,
      "outputs": [
        {
          "output_type": "stream",
          "name": "stdout",
          "text": [
            "[[241   6]\n",
            " [ 35  12]]\n"
          ]
        }
      ]
    },
    {
      "cell_type": "markdown",
      "source": [
        "*   **Gambar Decision Tree**"
      ],
      "metadata": {
        "id": "PkDzgxQOsnuf"
      }
    },
    {
      "cell_type": "code",
      "source": [
        "#Menampilkan Gambar Decision Tree\n",
        "fig = plt.figure(figsize=(14, 12))\n",
        "plot_tree(model)\n",
        "plt.show()"
      ],
      "metadata": {
        "colab": {
          "base_uri": "https://localhost:8080/",
          "height": 961
        },
        "id": "d-5gTW67pse-",
        "outputId": "f63e89c0-cdb7-485e-e82e-dc301ba2e85d"
      },
      "execution_count": null,
      "outputs": [
        {
          "output_type": "display_data",
          "data": {
            "text/plain": [
              "<Figure size 1400x1200 with 1 Axes>"
            ],
            "image/png": "[encoded data removed]"
          },
          "metadata": {}
        }
      ]
    }
  ]
}